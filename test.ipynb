{
 "cells": [
  {
   "cell_type": "code",
   "execution_count": 6,
   "metadata": {},
   "outputs": [
    {
     "name": "stderr",
     "output_type": "stream",
     "text": [
      "Using the latest cached version of the module from /home/UNT/ml1178/.cache/huggingface/modules/evaluate_modules/metrics/evaluate-metric--perplexity/8ab643ad86f568b7d1d5f7822373fa7401ff5ff0297ccf114b0ca6a33be96bc0 (last modified on Thu Dec  5 12:35:39 2024) since it couldn't be found locally at evaluate-metric--perplexity, or remotely on the Hugging Face Hub.\n"
     ]
    },
    {
     "name": "stdout",
     "output_type": "stream",
     "text": [
      "Document: In which year, john f. kennedy was assassinated?\n",
      "Paraphrase of the document:\n",
      ">>>>>>>>>>>>>>>>>>>>>>>>>>>>>>>>>>>>>>>>\n",
      "What year did John F. Kennedy get assassinated?\n",
      "========================================\n",
      "Document: In which year, john f. kennedy was assassinated?\n",
      "Paraphrase of the document:\n",
      ">>>>>>>>>>>>>>>>>>>>>>>>>>>>>>>>>>>>>>>>\n",
      "What year did John F. Kennedy get assassinated?\n",
      "========================================\n",
      "Document: In which year, john f. kennedy was assassinated?\n",
      "Paraphrase of the document:\n",
      ">>>>>>>>>>>>>>>>>>>>>>>>>>>>>>>>>>>>>>>>\n",
      "What year did John F. Kennedy get assassinated?\n",
      "========================================\n",
      "Document: In which year, john f. kennedy was assassinated?\n",
      "Paraphrase of the document:\n",
      ">>>>>>>>>>>>>>>>>>>>>>>>>>>>>>>>>>>>>>>>\n",
      "What year did John F. Kennedy get assassinated in?\n",
      "========================================\n",
      "Document: In which year, john f. kennedy was assassinated?\n",
      "Paraphrase of the document:\n",
      ">>>>>>>>>>>>>>>>>>>>>>>>>>>>>>>>>>>>>>>>\n",
      "What year was John F. Kennedy assassinated in?\n",
      "========================================\n",
      "Document: In which year, john f. kennedy was assassinated?\n",
      "Paraphrase of the document:\n",
      ">>>>>>>>>>>>>>>>>>>>>>>>>>>>>>>>>>>>>>>>\n",
      "What year was John F. Kennedy assassinated in?\n",
      "========================================\n",
      "Document: In which year, john f. kennedy was assassinated?\n",
      "Paraphrase of the document:\n",
      ">>>>>>>>>>>>>>>>>>>>>>>>>>>>>>>>>>>>>>>>\n",
      "In what year was John F. Kennedy killed by an assassin?\n",
      "========================================\n",
      "Document: In which year, john f. kennedy was assassinated?\n",
      "Paraphrase of the document:\n",
      ">>>>>>>>>>>>>>>>>>>>>>>>>>>>>>>>>>>>>>>>\n",
      "What year was John F. Kennedy assassinated?\n",
      "========================================\n",
      "Document: In which year, john f. kennedy was assassinated?\n",
      "Paraphrase of the document:\n",
      ">>>>>>>>>>>>>>>>>>>>>>>>>>>>>>>>>>>>>>>>\n",
      "What year did John F. Kennedy get assassinated?\n",
      "========================================\n",
      "Document: In which year, john f. kennedy was assassinated?\n",
      "Paraphrase of the document:\n",
      ">>>>>>>>>>>>>>>>>>>>>>>>>>>>>>>>>>>>>>>>\n",
      "What year did John F. Kennedy get assassinated?\n",
      "========================================\n",
      "['What year did John F. Kennedy get assassinated?', 'What year did John F. Kennedy get assassinated?', 'What year did John F. Kennedy get assassinated?', 'What year did John F. Kennedy get assassinated in?', 'What year was John F. Kennedy assassinated in?', 'What year was John F. Kennedy assassinated in?', 'In what year was John F. Kennedy killed by an assassin?', 'What year was John F. Kennedy assassinated?', 'What year did John F. Kennedy get assassinated?', 'What year did John F. Kennedy get assassinated?']\n"
     ]
    }
   ],
   "source": [
    "from GTR import GTR\n",
    "from openai_generation import dp_paraphrase, generate\n",
    "gtr = GTR()\n",
    "input_text = \"In which year, john f. kennedy was assassinated?\"\n",
    "rewrites = gtr.gtr(input_text, dp_paraphrase, temperature=1.0)\n",
    "print(rewrites)"
   ]
  },
  {
   "cell_type": "code",
   "execution_count": 7,
   "metadata": {},
   "outputs": [
    {
     "name": "stdout",
     "output_type": "stream",
     "text": [
      "All Tokens:  {('assassinated',): 9, ('F.',): 10, ('did',): 6, ('John',): 10, ('?',): 10, ('What',): 9, ('year',): 10, ('Kennedy',): 10, ('get',): 6, ('in',): 3, ('was',): 4, ('by',): 1, ('an',): 1, ('In',): 1, ('assassin',): 1, ('what',): 1, ('killed',): 1}\n",
      "All Sorted Tokens:  [(('F.',), 10), (('John',), 10), (('?',), 10), (('year',), 10), (('Kennedy',), 10), (('assassinated',), 9), (('What',), 9), (('did',), 6), (('get',), 6), (('was',), 4), (('in',), 3), (('by',), 1), (('an',), 1), (('In',), 1), (('assassin',), 1), (('what',), 1), (('killed',), 1)]\n",
      "Filtered Sorted Tokens:  [(('F.',), 10), (('John',), 10), (('year',), 10), (('Kennedy',), 10), (('assassinated',), 9), (('What',), 9), (('get',), 6), (('In',), 1), (('assassin',), 1), (('killed',), 1)]\n",
      "Final Released PK Tokens:  ['F.', 'John', 'year', 'Kennedy', 'assassinated', 'What', 'get', 'In', 'assassin', 'killed']\n"
     ]
    },
    {
     "data": {
      "application/vnd.jupyter.widget-view+json": {
       "model_id": "370478b187bd4fb8a1dcbbab39ad791b",
       "version_major": 2,
       "version_minor": 0
      },
      "text/plain": [
       "  0%|          | 0/1 [00:00<?, ?it/s]"
      ]
     },
     "metadata": {},
     "output_type": "display_data"
    },
    {
     "name": "stdout",
     "output_type": "stream",
     "text": [
      "Reference Question:  In what year was John F. Kennedy killed by an assassin?\n",
      "Refer the following question to generate a new question:\n",
      "In what year was John F. Kennedy killed by an assassin?\n",
      "Avoid using following tokens:\n",
      "killed, get, F., assassinated, John, year, Kennedy, In, assassin, What\n",
      "Generated question:\n",
      "\n",
      ">>>>>>>>>>>>>>>>>>>>>>>>>>>>>>>>>>>>>>>>\n",
      "When did the tragic event involving the 35th President of the United States occur?\n",
      "========================================\n"
     ]
    }
   ],
   "source": [
    "final_prompt = gtr.icl(rewrites, generate)"
   ]
  }
 ],
 "metadata": {
  "kernelspec": {
   "display_name": "basic_39",
   "language": "python",
   "name": "python3"
  },
  "language_info": {
   "codemirror_mode": {
    "name": "ipython",
    "version": 3
   },
   "file_extension": ".py",
   "mimetype": "text/x-python",
   "name": "python",
   "nbconvert_exporter": "python",
   "pygments_lexer": "ipython3",
   "version": "3.9.19"
  }
 },
 "nbformat": 4,
 "nbformat_minor": 2
}
