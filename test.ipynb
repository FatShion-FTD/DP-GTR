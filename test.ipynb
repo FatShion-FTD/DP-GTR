{
 "cells": [
  {
   "cell_type": "code",
   "execution_count": 4,
   "metadata": {},
   "outputs": [],
   "source": [
    "import warnings\n",
    "warnings.filterwarnings(\"ignore\", module=\"huggingface_hub\")"
   ]
  },
  {
   "cell_type": "code",
   "execution_count": 5,
   "metadata": {},
   "outputs": [
    {
     "name": "stdout",
     "output_type": "stream",
     "text": [
      "Document: In which year, john f. kennedy was assassinated?\n",
      "Paraphrase of the document:\n",
      ">>>>>>>>>>>>>>>>>>>>>>>>>>>>>>>>>>>>>>>>\n",
      " In what year was John F. Kennedy killed?\n",
      "========================================\n",
      "Document: In which year, john f. kennedy was assassinated?\n",
      "Paraphrase of the document:\n",
      ">>>>>>>>>>>>>>>>>>>>>>>>>>>>>>>>>>>>>>>>\n",
      "What year was John F. Kennedy assassinated?\n",
      "========================================\n",
      "Document: In which year, john f. kennedy was assassinated?\n",
      "Paraphrase of the document:\n",
      ">>>>>>>>>>>>>>>>>>>>>>>>>>>>>>>>>>>>>>>>\n",
      "During which year did John F. Kennedy get assassinated?\n",
      "========================================\n",
      "Document: In which year, john f. kennedy was assassinated?\n",
      "Paraphrase of the document:\n",
      ">>>>>>>>>>>>>>>>>>>>>>>>>>>>>>>>>>>>>>>>\n",
      "In what year was John F. Kennedy killed?\n",
      "========================================\n",
      "Document: In which year, john f. kennedy was assassinated?\n",
      "Paraphrase of the document:\n",
      ">>>>>>>>>>>>>>>>>>>>>>>>>>>>>>>>>>>>>>>>\n",
      "What year did John F. Kennedy get assassinated?\n",
      "========================================\n",
      "Document: In which year, john f. kennedy was assassinated?\n",
      "Paraphrase of the document:\n",
      ">>>>>>>>>>>>>>>>>>>>>>>>>>>>>>>>>>>>>>>>\n",
      "In what year was John F. Kennedy killed?\n",
      "========================================\n",
      "Document: In which year, john f. kennedy was assassinated?\n",
      "Paraphrase of the document:\n",
      ">>>>>>>>>>>>>>>>>>>>>>>>>>>>>>>>>>>>>>>>\n",
      "What year did John F. Kennedy get assassinated?\n",
      "========================================\n",
      "Document: In which year, john f. kennedy was assassinated?\n",
      "Paraphrase of the document:\n",
      ">>>>>>>>>>>>>>>>>>>>>>>>>>>>>>>>>>>>>>>>\n",
      "In what year was John F. Kennedy killed?\n",
      "========================================\n",
      "Document: In which year, john f. kennedy was assassinated?\n",
      "Paraphrase of the document:\n",
      ">>>>>>>>>>>>>>>>>>>>>>>>>>>>>>>>>>>>>>>>\n",
      "What year did John F. Kennedy get shot?\n",
      "========================================\n",
      "Document: In which year, john f. kennedy was assassinated?\n",
      "Paraphrase of the document:\n",
      ">>>>>>>>>>>>>>>>>>>>>>>>>>>>>>>>>>>>>>>>\n",
      "In what year did John F. Kennedy get killed?\n",
      "========================================\n",
      "[' In what year was John F. Kennedy killed?', 'What year was John F. Kennedy assassinated?', 'During which year did John F. Kennedy get assassinated?', 'In what year was John F. Kennedy killed?', 'What year did John F. Kennedy get assassinated?', 'In what year was John F. Kennedy killed?', 'What year did John F. Kennedy get assassinated?', 'In what year was John F. Kennedy killed?', 'What year did John F. Kennedy get shot?', 'In what year did John F. Kennedy get killed?']\n"
     ]
    }
   ],
   "source": [
    "from GTR import GTR\n",
    "from openai_generation import dp_paraphrase, generate\n",
    "gtr = GTR()\n",
    "input_text = \"In which year, john f. kennedy was assassinated?\"\n",
    "rewrites = gtr.gtr(input_text, dp_paraphrase, temperature=1.0)\n",
    "print(rewrites)"
   ]
  },
  {
   "cell_type": "code",
   "execution_count": 6,
   "metadata": {},
   "outputs": [
    {
     "name": "stdout",
     "output_type": "stream",
     "text": [
      "All Tokens:  {('killed',): 5, ('John',): 10, ('year',): 10, ('what',): 5, ('?',): 10, ('In',): 5, ('Kennedy',): 10, ('was',): 5, ('F.',): 10, ('assassinated',): 4, ('What',): 4, ('During',): 1, ('get',): 5, ('did',): 5, ('which',): 1, ('shot',): 1}\n",
      "All Sorted Tokens:  [(('John',), 10), (('year',), 10), (('?',), 10), (('Kennedy',), 10), (('F.',), 10), (('killed',), 5), (('what',), 5), (('In',), 5), (('was',), 5), (('get',), 5), (('did',), 5), (('assassinated',), 4), (('What',), 4), (('During',), 1), (('which',), 1), (('shot',), 1)]\n",
      "Filtered Sorted Tokens:  [(('John',), 10), (('year',), 10), (('Kennedy',), 10), (('F.',), 10), (('killed',), 5), (('In',), 5), (('get',), 5), (('assassinated',), 4), (('What',), 4), (('During',), 1), (('shot',), 1)]\n",
      "Final Released PK Tokens:  ['John', 'year', 'Kennedy', 'F.', 'killed', 'In', 'get', 'assassinated', 'What', 'During']\n"
     ]
    },
    {
     "data": {
      "application/vnd.jupyter.widget-view+json": {
       "model_id": "6227bec38d8a4991883278af6e61ca40",
       "version_major": 2,
       "version_minor": 0
      },
      "text/plain": [
       "  0%|          | 0/1 [00:00<?, ?it/s]"
      ]
     },
     "metadata": {},
     "output_type": "display_data"
    },
    {
     "name": "stdout",
     "output_type": "stream",
     "text": [
      "Reference Question:  What year was John F. Kennedy assassinated?\n",
      "Refer the following question to generate a new question:\n",
      "What year was John F. Kennedy assassinated?\n",
      "Avoid using following tokens:\n",
      "What, get, Kennedy, killed, In, John, assassinated, F., year, During\n",
      "Generated question:\n",
      "\n",
      ">>>>>>>>>>>>>>>>>>>>>>>>>>>>>>>>>>>>>>>>\n",
      "When did the tragic event occur involving the 35th President of the United States?\n",
      "========================================\n"
     ]
    }
   ],
   "source": [
    "final_prompt = gtr.icl(rewrites, generate)"
   ]
  }
 ],
 "metadata": {
  "kernelspec": {
   "display_name": "basic_39",
   "language": "python",
   "name": "python3"
  },
  "language_info": {
   "codemirror_mode": {
    "name": "ipython",
    "version": 3
   },
   "file_extension": ".py",
   "mimetype": "text/x-python",
   "name": "python",
   "nbconvert_exporter": "python",
   "pygments_lexer": "ipython3",
   "version": "3.9.19"
  }
 },
 "nbformat": 4,
 "nbformat_minor": 2
}
