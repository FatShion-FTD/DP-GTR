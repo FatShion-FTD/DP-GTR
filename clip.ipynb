{
 "cells": [
  {
   "cell_type": "code",
   "execution_count": 2,
   "metadata": {},
   "outputs": [
    {
     "name": "stdout",
     "output_type": "stream",
     "text": [
      "Current Config: {'max_new_tokens': 100, 'do_sample': True, 'temperature': 1.0, 'top_k': 50, 'output_scores': True, 'return_dict_in_generate': True, 'pad_token_id': 128001, 'eos_token_id': 128001}\n",
      "Clipped Config {'max_new_tokens': 100, 'do_sample': True, 'temperature': 2.8614608000000006, 'top_k': 50, 'output_scores': True, 'return_dict_in_generate': True, 'pad_token_id': 128001, 'eos_token_id': 128001, 'logits_processor': [<dpps.SLM.ClipLogitsProcessor object at 0x7f9a7cf310d0>]}\n",
      "Generated Text: Paraphrase the following question:\n",
      "A revolving door is convenient for two direction travel, but it also serves as a security measure at a what?\n",
      "Paraphrased Question:\n",
      "Two revolving doors allow passengers to enter on different doors; this system saves security and other cost. When a traveler chooses for one part, the whole system opens easily if an intrusions from exterior occurred, so there are\n",
      "Logits Length: 43, Token Length: 79, Input Length: 36\n"
     ]
    }
   ],
   "source": [
    "from dpps.SLM import SLM\n",
    "\n",
    "# Initialize the model\n",
    "model_name = SLM.MODELS[\"Llama-3.2-1B\"][\"model_name\"]\n",
    "tiny_llama = SLM(model_name)\n",
    "\n",
    "# Configure the generation\n",
    "tiny_llama.set_config(temperature=1.0, max_new_tokens=100)\n",
    "print(\"Current Config:\", tiny_llama.get_config())\n",
    "tiny_llama.clip_model(epsilon=10)\n",
    "print(f\"Clipped Config {tiny_llama.get_config()}\")\n",
    "\n",
    "# Input text\n",
    "input_text = \"Paraphrase the following question:\\nA revolving door is convenient for two direction travel, but it also serves as a security measure at a what?\\nParaphrased Question:\\n\"\n",
    "pure_text = \"A revolving door is convenient for two direction travel, but it also serves as a security measure at a what?\"\n",
    "\n",
    "# Generate text\n",
    "result = tiny_llama.generate(input_text, pure_text=pure_text)\n",
    "print(\"Generated Text:\", result[\"output_text\"])\n",
    "\n",
    "# Check logits\n",
    "all_logits = tiny_llama.check_logits(result[\"output_ids\"])\n",
    "all_selected_token_logits = tiny_llama.check_token_logits(result[\"output_ids\"])\n",
    "\n",
    "# Assertions and validation\n",
    "assert len(all_logits) == len(all_selected_token_logits)\n",
    "\n",
    "input_ids = tiny_llama.tokenizer(input_text, return_tensors=\"pt\").input_ids\n",
    "input_length = input_ids.shape[-1]\n",
    "all_logits_length = len(all_logits)\n",
    "all_length = len(result[\"output_ids\"].sequences[0])\n",
    "\n",
    "print(f\"Logits Length: {all_logits_length}, Token Length: {all_length}, Input Length: {input_length}\")\n",
    "assert all_logits_length == all_length - input_length\n"
   ]
  },
  {
   "cell_type": "code",
   "execution_count": 3,
   "metadata": {},
   "outputs": [
    {
     "name": "stdout",
     "output_type": "stream",
     "text": [
      "(1000, 8)\n"
     ]
    }
   ],
   "source": [
    "from datasets import load_dataset\n",
    "import numpy as np\n",
    "data = load_dataset(\"nielsr/docvqa_1200_examples_donut\")\n",
    "train_df = data[\"train\"].to_pandas()\n",
    "print(train_df.shape)"
   ]
  },
  {
   "cell_type": "code",
   "execution_count": 4,
   "metadata": {},
   "outputs": [
    {
     "name": "stderr",
     "output_type": "stream",
     "text": [
      "  0%|          | 0/1000 [00:00<?, ?it/s]\n"
     ]
    },
    {
     "ename": "AttributeError",
     "evalue": "'SLM' object has no attribute 'checkLogits'",
     "output_type": "error",
     "traceback": [
      "\u001b[0;31m---------------------------------------------------------------------------\u001b[0m",
      "\u001b[0;31mAttributeError\u001b[0m                            Traceback (most recent call last)",
      "Cell \u001b[0;32mIn[4], line 11\u001b[0m\n\u001b[1;32m      8\u001b[0m     result \u001b[38;5;241m=\u001b[39m tiny_llama\u001b[38;5;241m.\u001b[39mgenerate(prompt)\n\u001b[1;32m      9\u001b[0m     \u001b[38;5;66;03m# print(f\"Output:\\n{result['output_text']}\")\u001b[39;00m\n\u001b[1;32m     10\u001b[0m     \u001b[38;5;66;03m# print(\"===================\")\u001b[39;00m\n\u001b[0;32m---> 11\u001b[0m     all_logits \u001b[38;5;241m=\u001b[39m \u001b[43mtiny_llama\u001b[49m\u001b[38;5;241;43m.\u001b[39;49m\u001b[43mcheckLogits\u001b[49m(result[\u001b[38;5;124m\"\u001b[39m\u001b[38;5;124moutput_ids\u001b[39m\u001b[38;5;124m\"\u001b[39m], all_logits)\n\u001b[1;32m     12\u001b[0m     \u001b[38;5;66;03m# all_logits = tiny_llama.checkTokenLogits(result[\"output_ids\"], all_logits)\u001b[39;00m\n\u001b[1;32m     13\u001b[0m \u001b[38;5;28mprint\u001b[39m(\u001b[38;5;124mf\u001b[39m\u001b[38;5;124m\"\u001b[39m\u001b[38;5;124mMean Logits: \u001b[39m\u001b[38;5;132;01m{\u001b[39;00mnp\u001b[38;5;241m.\u001b[39mmean(all_logits)\u001b[38;5;132;01m:\u001b[39;00m\u001b[38;5;124m.6f\u001b[39m\u001b[38;5;132;01m}\u001b[39;00m\u001b[38;5;124m, Std Logits: \u001b[39m\u001b[38;5;132;01m{\u001b[39;00mnp\u001b[38;5;241m.\u001b[39mstd(all_logits)\u001b[38;5;132;01m:\u001b[39;00m\u001b[38;5;124m.6f\u001b[39m\u001b[38;5;132;01m}\u001b[39;00m\u001b[38;5;124m\"\u001b[39m)\n",
      "\u001b[0;31mAttributeError\u001b[0m: 'SLM' object has no attribute 'checkLogits'"
     ]
    }
   ],
   "source": [
    "import tqdm\n",
    "all_logits = []\n",
    "for i, row in tqdm.tqdm(train_df.iterrows(), total=len(train_df)):\n",
    "    input_text = row[\"query\"]['en']\n",
    "    prompt = \"Paraphrase the following question:\\n\" + input_text + \"\\nParaphrased Question:\\n\"\n",
    "    # print(f\"Prompt:\\n{prompt}\")\n",
    "    # result = tiny_llama.generate(prompt, pure_text = input_text)\n",
    "    result = tiny_llama.generate(prompt)\n",
    "    # print(f\"Output:\\n{result['output_text']}\")\n",
    "    # print(\"===================\")\n",
    "    all_logits = tiny_llama.checkLogits(result[\"output_ids\"], all_logits)\n",
    "    # all_logits = tiny_llama.checkTokenLogits(result[\"output_ids\"], all_logits)\n",
    "print(f\"Mean Logits: {np.mean(all_logits):.6f}, Std Logits: {np.std(all_logits):.6f}\")"
   ]
  }
 ],
 "metadata": {
  "kernelspec": {
   "display_name": "basic_39",
   "language": "python",
   "name": "python3"
  },
  "language_info": {
   "codemirror_mode": {
    "name": "ipython",
    "version": 3
   },
   "file_extension": ".py",
   "mimetype": "text/x-python",
   "name": "python",
   "nbconvert_exporter": "python",
   "pygments_lexer": "ipython3",
   "version": "3.9.19"
  }
 },
 "nbformat": 4,
 "nbformat_minor": 2
}
